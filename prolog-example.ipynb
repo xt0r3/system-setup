{
 "cells": [
  {
   "cell_type": "code",
   "execution_count": null,
   "id": "f87ad87e-f710-4c6b-a57b-cb1bb3357b18",
   "metadata": {},
   "outputs": [],
   "source": [
    "man(socrates).\n",
    "mortal(X) :- man(X).\n",
    "\n",
    "?- mortal(socrates).\n",
    "?- mortal(X).\n",
    "?- mortal(bob)."
   ]
  }
 ],
 "metadata": {
  "kernelspec": {
   "display_name": "SWI-Prolog",
   "language": "",
   "name": "jswipl"
  },
  "language_info": {
   "name": ""
  }
 },
 "nbformat": 4,
 "nbformat_minor": 5
}
