{
 "cells": [
  {
   "cell_type": "code",
   "execution_count": 1,
   "id": "f87ad87e-f710-4c6b-a57b-cb1bb3357b18",
   "metadata": {},
   "outputs": [
    {
     "name": "stdout",
     "output_type": "stream",
     "text": [
      "true.\n",
      "X = socrates.\n",
      "false."
     ]
    }
   ],
   "source": [
    "man(socrates).\n",
    "mortal(X) :- man(X).\n",
    "\n",
    "?- mortal(socrates).\n",
    "?- mortal(X).\n",
    "?- mortal(bob)."
   ]
  }
 ],
 "metadata": {
  "kernelspec": {
   "display_name": "SWI-Prolog",
   "language": "",
   "name": "jswipl"
  },
  "language_info": {
   "mimetype": "text/plain",
   "name": "swipl"
  }
 },
 "nbformat": 4,
 "nbformat_minor": 5
}
