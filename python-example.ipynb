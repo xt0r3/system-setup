{
 "cells": [
  {
   "cell_type": "markdown",
   "id": "9922e52f-daec-48b5-acd4-b58e427ef1a5",
   "metadata": {},
   "source": [
    "## Macros"
   ]
  },
  {
   "cell_type": "markdown",
   "id": "175b81a4-3f5f-45f6-b444-1febdf07bc50",
   "metadata": {},
   "source": [
    "<div hidden>\n",
    "\\[\n",
    "\\iffalse \\textrm{General purpose macros} \\fi\n",
    "\\renewcommand{\\deg}{{^{\\circ}}}\n",
    "\\newcommand{\\rbr}[1]{{\\left({{#1}}\\right)}}\n",
    "\\newcommand{\\abr}[1]{{\\left\\langle{{#1}}\\right\\rangle}}\n",
    "\\newcommand{\\cbr}[1]{{\\left\\{{{#1}}\\right\\}}}\n",
    "\\newcommand{\\sbr}[1]{{\\left[{{#1}}\\right]}}\n",
    "\\newcommand{\\pipe}[1]{{\\left|{{#1}}\\right|}}\n",
    "\\newcommand{\\ppipe}[1]{{\\left\\|{{#1}}\\right\\|}}\n",
    "\\newcommand{\\floor}[1]{{\\left\\lfloor{{#1}}\\right\\rfloor}}\n",
    "\\newcommand{\\ceil}[1]{{\\left\\lceil{{#1}}\\right\\rceil}}\n",
    "\\newcommand{\\set}[1]{{ \\cbr{{#1}} }}\n",
    "\\newcommand{\\P}{\\mathbb{P}}\n",
    "\\newcommand{\\Q}{\\mathbb{Q}}\n",
    "\\newcommand{\\Z}{\\mathbb{Z}}\n",
    "\\newcommand{\\N}{\\mathbb{N}}\n",
    "\\newcommand{\\R}{\\mathbb{R}}\n",
    "\\newcommand{\\C}{\\mathbb{C}}\n",
    "\\iffalse \\textrm{Semantics macros} \\fi\n",
    "\\newcommand{\\iet}[3]{{\\textrm{if } {{#1}} \\textrm{ then } {{#2}} \\textrm{ else } {{#3}}}}\n",
    "\\renewcommand{\\t}[0]{{\\textrm{true}}}\n",
    "\\newcommand{\\f}[0]{{\\textrm{false}}}\n",
    "\\iffalse \\textrm{Compiler Construction macros} \\fi\n",
    "\\newcommand{\\fst}[1]{{\\textrm{FIRST}({{#1}})}}\n",
    "\\newcommand{\\flw}[1]{{\\textrm{FOLLOW}({{#1}})}}\n",
    "\\newcommand{\\gen}[2][]{{ {{#1}} \\implies {{#2}} }} \n",
    "\\]\n",
    "</div>\n"
   ]
  },
  {
   "cell_type": "markdown",
   "id": "fe360ba0-5576-45b2-aaa5-1a7aae7a9044",
   "metadata": {},
   "source": [
    "$\\fst{3} = 2$"
   ]
  },
  {
   "cell_type": "markdown",
   "id": "2405f1f7-56d3-4b11-940f-e96c9e059710",
   "metadata": {},
   "source": [
    "## Python works"
   ]
  },
  {
   "cell_type": "code",
   "execution_count": 3,
   "id": "1a36047d-18ce-4252-9de5-8da50afe69e4",
   "metadata": {},
   "outputs": [
    {
     "name": "stdout",
     "output_type": "stream",
     "text": [
      "3\n"
     ]
    }
   ],
   "source": [
    "print(3)"
   ]
  },
  {
   "cell_type": "markdown",
   "id": "f833ef46-9acc-4be4-a98a-321dc0fa5a91",
   "metadata": {},
   "source": [
    "## OCaml works"
   ]
  },
  {
   "cell_type": "code",
   "execution_count": 5,
   "id": "2c42ca56-cff2-4d37-9297-9b277416d68a",
   "metadata": {},
   "outputs": [
    {
     "ename": "ModuleNotFoundError",
     "evalue": "No module named 'ocaml'",
     "output_type": "error",
     "traceback": [
      "\u001b[0;31m---------------------------------------------------------------------------\u001b[0m",
      "\u001b[0;31mModuleNotFoundError\u001b[0m                       Traceback (most recent call last)",
      "Cell \u001b[0;32mIn[5], line 1\u001b[0m\n\u001b[0;32m----> 1\u001b[0m \u001b[38;5;28;01mimport\u001b[39;00m \u001b[38;5;21;01mocaml\u001b[39;00m\n",
      "\u001b[0;31mModuleNotFoundError\u001b[0m: No module named 'ocaml'"
     ]
    }
   ],
   "source": [
    "import ocaml"
   ]
  },
  {
   "cell_type": "code",
   "execution_count": 7,
   "id": "fa1cd69e-bee6-4dcc-96c8-1341fe7241b2",
   "metadata": {},
   "outputs": [
    {
     "name": "stderr",
     "output_type": "stream",
     "text": [
      "UsageError: Cell magic `%%ocaml` not found.\n"
     ]
    }
   ],
   "source": [
    "%%ocaml\n",
    "Printf.sprintf \"Hello %s %d\\n\" \"world\" 123;;"
   ]
  },
  {
   "cell_type": "markdown",
   "id": "cb35fdd7-0f5d-4606-ba09-37549d224371",
   "metadata": {},
   "source": [
    "## Tikz works"
   ]
  },
  {
   "cell_type": "code",
   "execution_count": null,
   "id": "687db256-c76d-4d4a-9908-13f106da1552",
   "metadata": {},
   "outputs": [],
   "source": [
    "%load_ext tikzmagic"
   ]
  },
  {
   "cell_type": "code",
   "execution_count": 6,
   "id": "4a59cbc8-a5fb-4c7d-9994-b9bab953b016",
   "metadata": {},
   "outputs": [
    {
     "name": "stderr",
     "output_type": "stream",
     "text": [
      "UsageError: Cell magic `%%tikz` not found.\n"
     ]
    }
   ],
   "source": [
    "%%tikz --size 1000,1000 -l positioning,automata -f jpg\n",
    "\n",
    "    \\node[state, initial] (q_0) {\\begin{tabular}{c}State 0 \\\\ $S  \\to \\bullet (S) $ \\end{tabular}};\n",
    "    \\node[state, right=of q_0] (q_1) {\\begin{tabular}{c}State 1 \\\\ $S  \\to ( \\bullet S) $ \\end{tabular}};\n",
    "    \\node[state, right=of q_1] (q_2) {\\begin{tabular}{c}State 2 \\\\ $S  \\to (S \\bullet ) $ \\end{tabular}};\n",
    "    \\node[state, right=of q_2] (q_3) {\\begin{tabular}{c}State 3 \\\\ $S  \\to (S) \\bullet  $ \\end{tabular}};\n",
    "    \\node[state, below=of q_0] (q_4) {\\begin{tabular}{c}State 4 \\\\ $S  \\to \\bullet ()   $ \\end{tabular}};\n",
    "    \\node[state, right=of q_4] (q_5) {\\begin{tabular}{c}State 5 \\\\ $S  \\to ( \\bullet )  $ \\end{tabular}};\n",
    "    \\node[state, right=of q_5] (q_6) {\\begin{tabular}{c}State 6 \\\\ $S  \\to () \\bullet   $ \\end{tabular}};\n",
    "\n",
    "  \\path[->] (q_0) edge              node [above]       {$($} (q_1)\n",
    "            (q_1) edge              node [above left]  {$\\epsilon$} (q_4)\n",
    "                  edge [bend right] node [above left]  {$\\epsilon$} (q_0)\n",
    "                  edge              node [above]       {$S$} (q_2)\n",
    "            (q_2) edge              node [above]       {$)$} (q_3)\n",
    "            (q_4) edge              node [above]       {$($} (q_5)\n",
    "            (q_5) edge              node [above]       {$)$} (q_6);"
   ]
  },
  {
   "cell_type": "code",
   "execution_count": null,
   "id": "03b7da89-18b8-4cb7-a8cf-552c447274c0",
   "metadata": {},
   "outputs": [],
   "source": []
  }
 ],
 "metadata": {
  "kernelspec": {
   "display_name": "Python 3 (ipykernel)",
   "language": "python",
   "name": "python3"
  },
  "language_info": {
   "codemirror_mode": {
    "name": "ipython",
    "version": 3
   },
   "file_extension": ".py",
   "mimetype": "text/x-python",
   "name": "python",
   "nbconvert_exporter": "python",
   "pygments_lexer": "ipython3",
   "version": "3.10.9"
  }
 },
 "nbformat": 4,
 "nbformat_minor": 5
}
